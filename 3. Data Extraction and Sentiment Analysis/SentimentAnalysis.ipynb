{
 "cells": [
  {
   "cell_type": "markdown",
   "metadata": {},
   "source": [
    "# **Sentiment Analysis**"
   ]
  },
  {
   "cell_type": "code",
   "execution_count": 57,
   "metadata": {},
   "outputs": [],
   "source": [
    "from numpy import DataSource\n",
    "import numpy as np\n",
    "\n",
    "import spacy\n",
    "from spacytextblob.spacytextblob import SpacyTextBlob\n",
    "nlp = spacy.load('en_core_web_sm')\n",
    "nlp.add_pipe('spacytextblob')\n",
    "\n",
    "from EventData_Table import *\n",
    "\n",
    "from matplotlib import pyplot as plt\n",
    "import seaborn as sns"
   ]
  },
  {
   "cell_type": "markdown",
   "metadata": {},
   "source": [
    "## **Instagram Top Rows Data**"
   ]
  },
  {
   "cell_type": "code",
   "execution_count": 58,
   "metadata": {},
   "outputs": [
    {
     "name": "stdout",
     "output_type": "stream",
     "text": [
      "Average Polarity: 0.24648313362243668\n",
      "Median Polarity: 0.21474358974358973\n",
      "Variance Polarity: 0.04892863355390238\n",
      "-----------------------------------------------\n",
      "Average Subjectivity: 0.4426035563583873\n",
      "Median Subjectivity: 0.4803846153846154\n",
      "Variance Subjectivity: 0.05961371387779734\n"
     ]
    }
   ],
   "source": [
    "ig_df = importing_ig_event_data()\n",
    "\n",
    "ig_polarity_ls = []\n",
    "ig_subjectivity_ls = []\n",
    "\n",
    "\n",
    "for i in ig_df.post_caption:\n",
    "    text = i\n",
    "    doc = nlp(text)\n",
    "    ig_polarity_ls.append(doc._.polarity)\n",
    "    ig_subjectivity_ls.append(doc._.subjectivity)\n",
    "\n",
    "#Find Stats for Polarity\n",
    "ig_average_polarity = np.array(ig_polarity_ls).mean()\n",
    "ig_median_polarity = np.median(np.array(ig_polarity_ls))\n",
    "ig_variance_polarity = np.array(ig_polarity_ls).var()\n",
    "print(\"Average Polarity: \" + str(ig_average_polarity) + \"\\nMedian Polarity: \" + str(ig_median_polarity) + \"\\nVariance Polarity: \" + str(ig_variance_polarity))\n",
    "\n",
    "print('-----------------------------------------------')\n",
    "\n",
    "#Find Stats for Subjectivity\n",
    "ig_average_subjectivity = np.array(ig_subjectivity_ls).mean()\n",
    "ig_median_subjectivity = np.median(np.array(ig_subjectivity_ls))\n",
    "ig_variance_subjectivity = np.array(ig_subjectivity_ls).var()\n",
    "print(\"Average Subjectivity: \" + str(ig_average_subjectivity) + \"\\nMedian Subjectivity: \" + str(ig_median_subjectivity) + \"\\nVariance Subjectivity: \" + str(ig_variance_subjectivity))"
   ]
  },
  {
   "cell_type": "markdown",
   "metadata": {},
   "source": [
    "### **Plot Polarity Values**"
   ]
  },
  {
   "cell_type": "code",
   "execution_count": 59,
   "metadata": {},
   "outputs": [
    {
     "name": "stderr",
     "output_type": "stream",
     "text": [
      "C:\\Python39\\lib\\site-packages\\seaborn\\distributions.py:2619: FutureWarning: `distplot` is a deprecated function and will be removed in a future version. Please adapt your code to use either `displot` (a figure-level function with similar flexibility) or `histplot` (an axes-level function for histograms).\n",
      "  warnings.warn(msg, FutureWarning)\n"
     ]
    },
    {
     "data": {
      "text/plain": [
       "Text(0, 0.5, 'Frequency')"
      ]
     },
     "execution_count": 59,
     "metadata": {},
     "output_type": "execute_result"
    },
    {
     "data": {
      "image/png": "[encoded data removed]",
      "text/plain": [
       "<Figure size 432x288 with 1 Axes>"
      ]
     },
     "metadata": {
      "needs_background": "light"
     },
     "output_type": "display_data"
    }
   ],
   "source": [
    "# matplotlib histogram\n",
    "plt.hist(ig_polarity_ls, color = 'red', edgecolor = 'black',\n",
    "         bins = int(180/5))\n",
    "\n",
    "# seaborn histogram\n",
    "sns.distplot(ig_polarity_ls, hist=True, kde=False, \n",
    "             bins=int(180/5), color = 'blue',\n",
    "             hist_kws={'edgecolor':'black'})\n",
    "# Add labels\n",
    "plt.title('Polarity IG Event Data')\n",
    "plt.xlim([-1,1])\n",
    "plt.xlabel('Polarity')\n",
    "plt.ylabel('Frequency')"
   ]
  },
  {
   "cell_type": "markdown",
   "metadata": {},
   "source": [
    "### **Plot Subjectivity Values**"
   ]
  },
  {
   "cell_type": "code",
   "execution_count": 60,
   "metadata": {},
   "outputs": [
    {
     "data": {
      "text/plain": [
       "Text(0, 0.5, 'Frequency')"
      ]
     },
     "execution_count": 60,
     "metadata": {},
     "output_type": "execute_result"
    },
    {
     "data": {
      "image/png": "[encoded data removed]",
      "text/plain": [
       "<Figure size 432x288 with 1 Axes>"
      ]
     },
     "metadata": {
      "needs_background": "light"
     },
     "output_type": "display_data"
    }
   ],
   "source": [
    "# matplotlib histogram\n",
    "plt.hist(ig_subjectivity_ls, color = 'red', edgecolor = 'black',\n",
    "         bins = int(180/5))\n",
    "\n",
    "# seaborn histogram\n",
    "sns.distplot(ig_subjectivity_ls, hist=True, kde=False, \n",
    "             bins=int(180/5), color = 'blue',\n",
    "             hist_kws={'edgecolor':'black'})\n",
    "# Add labels\n",
    "plt.title('Subjectivity IG Event Data')\n",
    "plt.xlim([0,1])\n",
    "plt.xlabel('Subjectivity')\n",
    "plt.ylabel('Frequency')"
   ]
  },
  {
   "cell_type": "markdown",
   "metadata": {},
   "source": [
    "## **Twitter Top Rows Data**"
   ]
  },
  {
   "cell_type": "code",
   "execution_count": 61,
   "metadata": {},
   "outputs": [
    {
     "name": "stdout",
     "output_type": "stream",
     "text": [
      "Average Polarity: 0.17427393745294562\n",
      "Median Polarity: 0.13636363636363635\n",
      "Variance Polarity: 0.05616621495711602\n",
      "-----------------------------------------------\n",
      "Average Subjectivity: 0.4257171187809775\n",
      "Median Subjectivity: 0.45454545454545453\n",
      "Variance Subjectivity: 0.0750916104917105\n"
     ]
    }
   ],
   "source": [
    "tw_df = importing_tw_event_data()\n",
    "\n",
    "tw_polarity_ls = []\n",
    "tw_subjectivity_ls = []\n",
    "\n",
    "\n",
    "for i in tw_df.post_content:\n",
    "    text = i\n",
    "    doc = nlp(text)\n",
    "    tw_polarity_ls.append(doc._.polarity)\n",
    "    tw_subjectivity_ls.append(doc._.subjectivity)\n",
    "\n",
    "#Find Stats for Polarity\n",
    "tw_average_polarity = np.array(tw_polarity_ls).mean()\n",
    "tw_median_polarity = np.median(np.array(tw_polarity_ls))\n",
    "tw_variance_polarity = np.array(tw_polarity_ls).var()\n",
    "print(\"Average Polarity: \" + str(tw_average_polarity) + \"\\nMedian Polarity: \" + str(tw_median_polarity) + \"\\nVariance Polarity: \" + str(tw_variance_polarity))\n",
    "\n",
    "print('-----------------------------------------------')\n",
    "\n",
    "#Find Stats for Subjectivity\n",
    "tw_average_subjectivity = np.array(tw_subjectivity_ls).mean()\n",
    "tw_median_subjectivity = np.median(np.array(tw_subjectivity_ls))\n",
    "tw_variance_subjectivity = np.array(tw_subjectivity_ls).var()\n",
    "print(\"Average Subjectivity: \" + str(tw_average_subjectivity) + \"\\nMedian Subjectivity: \" + str(tw_median_subjectivity) + \"\\nVariance Subjectivity: \" + str(tw_variance_subjectivity))"
   ]
  },
  {
   "cell_type": "markdown",
   "metadata": {},
   "source": [
    "### **Plot Polarity Values**"
   ]
  },
  {
   "cell_type": "code",
   "execution_count": 62,
   "metadata": {},
   "outputs": [
    {
     "ename": "SyntaxError",
     "evalue": "expression cannot contain assignment, perhaps you meant \"==\"? (Temp/ipykernel_20284/39258979.py, line 5)",
     "output_type": "error",
     "traceback": [
      "\u001b[1;36m  File \u001b[1;32m\"C:\\Users\\AW\\AppData\\Local\\Temp/ipykernel_20284/39258979.py\"\u001b[1;36m, line \u001b[1;32m5\u001b[0m\n\u001b[1;33m    sns.distplot(tw_polarity_ls, hst=True, kde=False, bins=int(180/5), color = 'blue', hist_kws={'edgecolor':'black'i})\u001b[0m\n\u001b[1;37m                                                                                       ^\u001b[0m\n\u001b[1;31mSyntaxError\u001b[0m\u001b[1;31m:\u001b[0m expression cannot contain assignment, perhaps you meant \"==\"?\n"
     ]
    }
   ],
   "source": [
    "# matplotlib histogram\n",
    "plt.hist(tw_polarity_ls, color = 'red', edgecolor = 'black', bins = int(180/5))\n",
    "\n",
    "# seaborn histogram\n",
    "sns.distplot(tw_polarity_ls, hst=True, kde=False, bins=int(180/5), color = 'blue', hist_kws={'edgecolor':'black'i})\n",
    "\n",
    "# Add labels\n",
    "plt.title('Polarity TW Event Data')\n",
    "plt.xlim([-1,1])\n",
    "plt.xlabel('Polarity')\n",
    "plt.ylabel('Frequency')"
   ]
  },
  {
   "cell_type": "markdown",
   "metadata": {},
   "source": [
    "### **Plot Subjectivity Values**"
   ]
  },
  {
   "cell_type": "code",
   "execution_count": null,
   "metadata": {},
   "outputs": [
    {
     "data": {
      "text/plain": [
       "Text(0, 0.5, 'Frequency')"
      ]
     },
     "execution_count": 8,
     "metadata": {},
     "output_type": "execute_result"
    },
    {
     "data": {
      "image/png": "[encoded data removed]",
      "text/plain": [
       "<Figure size 432x288 with 1 Axes>"
      ]
     },
     "metadata": {
      "needs_background": "light"
     },
     "output_type": "display_data"
    }
   ],
   "source": [
    "# matplotlib histogram\n",
    "plt.hist(tw_subjectivity_ls, color = 'red', edgecolor = 'black', bins = int(180/5))\n",
    "\n",
    "# seaborn histogram\n",
    "sns.distplot(tw_subjectivity_ls, hist=True, kde=False, bins=int(180/5), color = 'blue', hist_kws={'edgecolor':'black'})\n",
    "\n",
    "# Add labels\n",
    "plt.title('Subjectivity TW Event Data')\n",
    "plt.xlim([0,1])\n",
    "plt.xlabel('Subjectivity')\n",
    "plt.ylabel('Frequency')"
   ]
  },
  {
   "cell_type": "markdown",
   "metadata": {},
   "source": [
    "## **Combined Data**"
   ]
  },
  {
   "cell_type": "code",
   "execution_count": null,
   "metadata": {},
   "outputs": [
    {
     "data": {
      "image/png": "[encoded data removed]",
      "text/plain": [
       "<Figure size 432x288 with 1 Axes>"
      ]
     },
     "metadata": {
      "needs_background": "light"
     },
     "output_type": "display_data"
    }
   ],
   "source": [
    "fig, ax = plt.subplots()\n",
    "ax.hist(ig_polarity_ls, 10, None, ec='none', fc='#ADD8E6', lw=1.5, label='Instagram')\n",
    "ax.hist(tw_polarity_ls, 10, None, ec='green', fc='none', lw=1.5, label='Twitter')\n",
    "ax.legend(loc='upper left')\n",
    "plt.xlabel('Polarity')\n",
    "plt.ylabel('Frequency')\n",
    "plt.title('Polarity TW & IG Event Data')\n",
    "plt.xlim([-1.05,1.05])\n",
    "# plt.savefig(\"polarity_test\", transparent=True)\n",
    "plt.show()"
   ]
  },
  {
   "cell_type": "code",
   "execution_count": null,
   "metadata": {},
   "outputs": [
    {
     "data": {
      "image/png": "[encoded data removed]",
      "text/plain": [
       "<Figure size 432x288 with 1 Axes>"
      ]
     },
     "metadata": {
      "needs_background": "light"
     },
     "output_type": "display_data"
    }
   ],
   "source": [
    "fig, ax = plt.subplots()\n",
    "ax.hist(tw_subjectivity_ls, 10, None, ec='none', fc='#ADD8E6', lw=1.5, label='Twitter')\n",
    "ax.hist(ig_subjectivity_ls, 10, None, ec='green', fc='none', lw=1.5, label='Instagram')\n",
    "ax.legend(loc='upper left')\n",
    "plt.xlabel('Subjectivity')\n",
    "plt.ylabel('Frequency')\n",
    "plt.title('Subjectivity TW & IG Event Data')\n",
    "plt.xlim([-0.05,1.05])\n",
    "# plt.savefig(\"polarity_test\", transparent=True)\n",
    "plt.show()"
   ]
  },
  {
   "cell_type": "markdown",
   "metadata": {},
   "source": [
    "## **Analysis on Segment Name Groupings**"
   ]
  },
  {
   "cell_type": "code",
   "execution_count": null,
   "metadata": {},
   "outputs": [
    {
     "data": {
      "text/plain": [
       "0         Eco Changemakers\n",
       "1         Eco Changemakers\n",
       "2         Eco Changemakers\n",
       "3         Eco Changemakers\n",
       "4         Eco Changemakers\n",
       "              ...         \n",
       "93        Eco Changemakers\n",
       "94    Optimistic Providers\n",
       "95    Optimistic Providers\n",
       "96    Optimistic Providers\n",
       "97    Optimistic Providers\n",
       "Name: segment_name, Length: 98, dtype: object"
      ]
     },
     "execution_count": 19,
     "metadata": {},
     "output_type": "execute_result"
    }
   ],
   "source": [
    "#IG segment_name\n",
    "ig_sn = ig_df.segment_name\n",
    "ig_sn"
   ]
  },
  {
   "cell_type": "code",
   "execution_count": null,
   "metadata": {},
   "outputs": [
    {
     "data": {
      "text/plain": [
       "0     Eco Changemakers\n",
       "1     Eco Changemakers\n",
       "2     Eco Changemakers\n",
       "3     Eco Changemakers\n",
       "4     Eco Changemakers\n",
       "            ...       \n",
       "87    Eco Changemakers\n",
       "88    Eco Changemakers\n",
       "89    Eco Changemakers\n",
       "90    Eco Changemakers\n",
       "91    Eco Changemakers\n",
       "Name: segment_name, Length: 92, dtype: object"
      ]
     },
     "execution_count": 20,
     "metadata": {},
     "output_type": "execute_result"
    }
   ],
   "source": [
    "#TW segment_name\n",
    "tw_sn = tw_df.segment_name\n",
    "tw_sn"
   ]
  },
  {
   "cell_type": "code",
   "execution_count": null,
   "metadata": {},
   "outputs": [
    {
     "data": {
      "text/plain": [
       "0      Eco Changemakers\n",
       "1      Eco Changemakers\n",
       "2      Eco Changemakers\n",
       "3      Eco Changemakers\n",
       "4      Eco Changemakers\n",
       "             ...       \n",
       "185    Eco Changemakers\n",
       "186    Eco Changemakers\n",
       "187    Eco Changemakers\n",
       "188    Eco Changemakers\n",
       "189    Eco Changemakers\n",
       "Length: 190, dtype: object"
      ]
     },
     "execution_count": 30,
     "metadata": {},
     "output_type": "execute_result"
    }
   ],
   "source": [
    "segment_ls = [i for i in ig_sn]\n",
    "\n",
    "for i in tw_sn:\n",
    "    segment_ls.append(i)\n",
    "\n",
    "combined_sn = pd.Series(segment_ls)\n",
    "combined_sn"
   ]
  },
  {
   "cell_type": "code",
   "execution_count": null,
   "metadata": {},
   "outputs": [
    {
     "data": {
      "text/plain": [
       "Eco Changemakers           135\n",
       "Optimistic Providers        21\n",
       "Pragmatic heartlanders      16\n",
       "Socially Engaged Mavens      9\n",
       "Pop Culture Followers        8\n",
       "Eco Futurists                1\n",
       "dtype: int64"
      ]
     },
     "execution_count": 40,
     "metadata": {},
     "output_type": "execute_result"
    }
   ],
   "source": [
    "unique_val = combined_sn.value_counts()\n",
    "unique_val"
   ]
  },
  {
   "cell_type": "code",
   "execution_count": null,
   "metadata": {},
   "outputs": [
    {
     "data": {
      "text/plain": [
       "Text(0.5, 1.0, 'Pie Chart on Segment Name of Most Significant TW and IG Event Data')"
      ]
     },
     "execution_count": 46,
     "metadata": {},
     "output_type": "execute_result"
    },
    {
     "data": {
      "image/png": "[encoded data removed]",
      "text/plain": [
       "<Figure size 432x288 with 1 Axes>"
      ]
     },
     "metadata": {},
     "output_type": "display_data"
    }
   ],
   "source": [
    "ax = unique_val.plot(kind='pie', label=\"\")\n",
    "ax.set_title('Pie Chart on Segment Name of Most Significant TW and IG Event Data')"
   ]
  }
 ],
 "metadata": {
  "interpreter": {
   "hash": "63fd5069d213b44bf678585dea6b12cceca9941eaf7f819626cde1f2670de90d"
  },
  "kernelspec": {
   "display_name": "Python 3.9.5 64-bit",
   "language": "python",
   "name": "python3"
  },
  "language_info": {
   "codemirror_mode": {
    "name": "ipython",
    "version": 3
   },
   "file_extension": ".py",
   "mimetype": "text/x-python",
   "name": "python",
   "nbconvert_exporter": "python",
   "pygments_lexer": "ipython3",
   "version": "3.9.5"
  },
  "orig_nbformat": 4
 },
 "nbformat": 4,
 "nbformat_minor": 2
}
