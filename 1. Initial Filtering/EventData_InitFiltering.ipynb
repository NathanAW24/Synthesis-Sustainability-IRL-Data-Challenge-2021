{
 "cells": [
  {
   "cell_type": "markdown",
   "metadata": {},
   "source": [
    "# **Initial Filtering**"
   ]
  },
  {
   "cell_type": "markdown",
   "metadata": {},
   "source": [
    "## **Problem Statement: Perceptions of surplus food and barriers to consumption**"
   ]
  },
  {
   "cell_type": "code",
   "execution_count": 30,
   "metadata": {},
   "outputs": [],
   "source": [
    "import pandas as pd\n",
    "from matplotlib import pyplot as plt"
   ]
  },
  {
   "cell_type": "markdown",
   "metadata": {},
   "source": [
    "## **Reading The Files**"
   ]
  },
  {
   "cell_type": "code",
   "execution_count": 31,
   "metadata": {},
   "outputs": [
    {
     "data": {
      "text/html": [
       "<div>\n",
       "<style scoped>\n",
       "    .dataframe tbody tr th:only-of-type {\n",
       "        vertical-align: middle;\n",
       "    }\n",
       "\n",
       "    .dataframe tbody tr th {\n",
       "        vertical-align: top;\n",
       "    }\n",
       "\n",
       "    .dataframe thead th {\n",
       "        text-align: right;\n",
       "    }\n",
       "</style>\n",
       "<table border=\"1\" class=\"dataframe\">\n",
       "  <thead>\n",
       "    <tr style=\"text-align: right;\">\n",
       "      <th></th>\n",
       "      <th>user_id</th>\n",
       "      <th>user_name</th>\n",
       "      <th>post_id</th>\n",
       "      <th>post_shortcode</th>\n",
       "      <th>post_type</th>\n",
       "      <th>post_date</th>\n",
       "      <th>post_caption</th>\n",
       "      <th>post_tagged_users</th>\n",
       "      <th>post_hashtags</th>\n",
       "      <th>post_mentions</th>\n",
       "      <th>post_comments</th>\n",
       "      <th>post_likes</th>\n",
       "      <th>segment_name</th>\n",
       "    </tr>\n",
       "  </thead>\n",
       "  <tbody>\n",
       "    <tr>\n",
       "      <th>0</th>\n",
       "      <td>5db747f4e877ca2f15e72df13b06fd562df48403b95392...</td>\n",
       "      <td>stirring-elegant-hyrax-of-cubism</td>\n",
       "      <td>2612549219862254592</td>\n",
       "      <td>CRBo6xwHRNF</td>\n",
       "      <td>image</td>\n",
       "      <td>2021-07-07 12:15:58</td>\n",
       "      <td>Collin Tomahawk . Thank you @anonymised_user f...</td>\n",
       "      <td>None</td>\n",
       "      <td>None</td>\n",
       "      <td>None</td>\n",
       "      <td>0.0</td>\n",
       "      <td>14.0</td>\n",
       "      <td>Optimistic Providers</td>\n",
       "    </tr>\n",
       "    <tr>\n",
       "      <th>1</th>\n",
       "      <td>5db747f4e877ca2f15e72df13b06fd562df48403b95392...</td>\n",
       "      <td>thick-curassow-of-stimulating-authority</td>\n",
       "      <td>2579202108475507200</td>\n",
       "      <td>CPLKqcHnwJx</td>\n",
       "      <td>image</td>\n",
       "      <td>2021-05-22 12:01:12</td>\n",
       "      <td>I start to play with all kinds of ingredients ...</td>\n",
       "      <td>None</td>\n",
       "      <td>None</td>\n",
       "      <td>None</td>\n",
       "      <td>1.0</td>\n",
       "      <td>18.0</td>\n",
       "      <td>Optimistic Providers</td>\n",
       "    </tr>\n",
       "    <tr>\n",
       "      <th>2</th>\n",
       "      <td>5db747f4e877ca2f15e72df13b06fd562df48403b95392...</td>\n",
       "      <td>smooth-wondrous-barracuda-of-promise</td>\n",
       "      <td>2557245600699490304</td>\n",
       "      <td>CN9KVMxH5-g</td>\n",
       "      <td>image</td>\n",
       "      <td>2021-04-22 04:57:32</td>\n",
       "      <td>Crocheted hand sanitizer pouches and sew token...</td>\n",
       "      <td>None</td>\n",
       "      <td>None</td>\n",
       "      <td>None</td>\n",
       "      <td>1.0</td>\n",
       "      <td>26.0</td>\n",
       "      <td>Optimistic Providers</td>\n",
       "    </tr>\n",
       "    <tr>\n",
       "      <th>3</th>\n",
       "      <td>5db747f4e877ca2f15e72df13b06fd562df48403b95392...</td>\n",
       "      <td>hopping-nebulous-tanuki-of-improvement</td>\n",
       "      <td>2542861564795380224</td>\n",
       "      <td>CNKDx7an2FX</td>\n",
       "      <td>image</td>\n",
       "      <td>2021-04-02 08:39:02</td>\n",
       "      <td>Thank you @anonymised_user for this beautiful ...</td>\n",
       "      <td>None</td>\n",
       "      <td>None</td>\n",
       "      <td>None</td>\n",
       "      <td>2.0</td>\n",
       "      <td>19.0</td>\n",
       "      <td>Optimistic Providers</td>\n",
       "    </tr>\n",
       "    <tr>\n",
       "      <th>4</th>\n",
       "      <td>5db747f4e877ca2f15e72df13b06fd562df48403b95392...</td>\n",
       "      <td>enormous-booby-of-unreal-youth</td>\n",
       "      <td>2539242947717388288</td>\n",
       "      <td>CM9NAHpHFiX</td>\n",
       "      <td>image</td>\n",
       "      <td>2021-03-28 08:49:29</td>\n",
       "      <td>Thank you neighbour @anonymised_user and Amigo...</td>\n",
       "      <td>None</td>\n",
       "      <td>None</td>\n",
       "      <td>None</td>\n",
       "      <td>0.0</td>\n",
       "      <td>19.0</td>\n",
       "      <td>Optimistic Providers</td>\n",
       "    </tr>\n",
       "  </tbody>\n",
       "</table>\n",
       "</div>"
      ],
      "text/plain": [
       "                                             user_id  \\\n",
       "0  5db747f4e877ca2f15e72df13b06fd562df48403b95392...   \n",
       "1  5db747f4e877ca2f15e72df13b06fd562df48403b95392...   \n",
       "2  5db747f4e877ca2f15e72df13b06fd562df48403b95392...   \n",
       "3  5db747f4e877ca2f15e72df13b06fd562df48403b95392...   \n",
       "4  5db747f4e877ca2f15e72df13b06fd562df48403b95392...   \n",
       "\n",
       "                                 user_name              post_id  \\\n",
       "0         stirring-elegant-hyrax-of-cubism  2612549219862254592   \n",
       "1  thick-curassow-of-stimulating-authority  2579202108475507200   \n",
       "2     smooth-wondrous-barracuda-of-promise  2557245600699490304   \n",
       "3   hopping-nebulous-tanuki-of-improvement  2542861564795380224   \n",
       "4           enormous-booby-of-unreal-youth  2539242947717388288   \n",
       "\n",
       "  post_shortcode post_type            post_date  \\\n",
       "0    CRBo6xwHRNF     image  2021-07-07 12:15:58   \n",
       "1    CPLKqcHnwJx     image  2021-05-22 12:01:12   \n",
       "2    CN9KVMxH5-g     image  2021-04-22 04:57:32   \n",
       "3    CNKDx7an2FX     image  2021-04-02 08:39:02   \n",
       "4    CM9NAHpHFiX     image  2021-03-28 08:49:29   \n",
       "\n",
       "                                        post_caption post_tagged_users  \\\n",
       "0  Collin Tomahawk . Thank you @anonymised_user f...              None   \n",
       "1  I start to play with all kinds of ingredients ...              None   \n",
       "2  Crocheted hand sanitizer pouches and sew token...              None   \n",
       "3  Thank you @anonymised_user for this beautiful ...              None   \n",
       "4  Thank you neighbour @anonymised_user and Amigo...              None   \n",
       "\n",
       "  post_hashtags post_mentions  post_comments  post_likes          segment_name  \n",
       "0          None          None            0.0        14.0  Optimistic Providers  \n",
       "1          None          None            1.0        18.0  Optimistic Providers  \n",
       "2          None          None            1.0        26.0  Optimistic Providers  \n",
       "3          None          None            2.0        19.0  Optimistic Providers  \n",
       "4          None          None            0.0        19.0  Optimistic Providers  "
      ]
     },
     "execution_count": 31,
     "metadata": {},
     "output_type": "execute_result"
    }
   ],
   "source": [
    "df1_path = \"XDS Sustainability IRL Event Data x IG Posts x P5Y.parquet\"\n",
    "df1 = pd.read_parquet(df1_path, engine='fastparquet')\n",
    "\n",
    "df1.head()"
   ]
  },
  {
   "cell_type": "code",
   "execution_count": 32,
   "metadata": {},
   "outputs": [
    {
     "data": {
      "text/plain": [
       "404862"
      ]
     },
     "execution_count": 32,
     "metadata": {},
     "output_type": "execute_result"
    }
   ],
   "source": [
    "len(df1)"
   ]
  },
  {
   "cell_type": "code",
   "execution_count": 33,
   "metadata": {},
   "outputs": [
    {
     "data": {
      "text/html": [
       "<div>\n",
       "<style scoped>\n",
       "    .dataframe tbody tr th:only-of-type {\n",
       "        vertical-align: middle;\n",
       "    }\n",
       "\n",
       "    .dataframe tbody tr th {\n",
       "        vertical-align: top;\n",
       "    }\n",
       "\n",
       "    .dataframe thead th {\n",
       "        text-align: right;\n",
       "    }\n",
       "</style>\n",
       "<table border=\"1\" class=\"dataframe\">\n",
       "  <thead>\n",
       "    <tr style=\"text-align: right;\">\n",
       "      <th></th>\n",
       "      <th>user_id</th>\n",
       "      <th>user_name</th>\n",
       "      <th>post_id</th>\n",
       "      <th>post_date</th>\n",
       "      <th>post_content</th>\n",
       "      <th>post_is_retweet</th>\n",
       "      <th>post_is_truncated</th>\n",
       "      <th>post_like_count</th>\n",
       "      <th>post_retweet_count</th>\n",
       "      <th>post_media</th>\n",
       "      <th>post_hashtags</th>\n",
       "      <th>post_user_mentions</th>\n",
       "      <th>post_reply_to_post_id</th>\n",
       "      <th>segment_name</th>\n",
       "    </tr>\n",
       "  </thead>\n",
       "  <tbody>\n",
       "    <tr>\n",
       "      <th>0</th>\n",
       "      <td>92c7f7363deda546240a9b63d8a279d22c3f018329cd2a...</td>\n",
       "      <td>spiked-determined-dragonfly-of-awe</td>\n",
       "      <td>1439238781253550085</td>\n",
       "      <td>Sat Sep 18 22:43:59 SGT 2021</td>\n",
       "      <td>@anonymised_user Pah zhiam bueh pah zhiam bueh...</td>\n",
       "      <td>False</td>\n",
       "      <td>False</td>\n",
       "      <td>0</td>\n",
       "      <td>0</td>\n",
       "      <td>None</td>\n",
       "      <td>None</td>\n",
       "      <td>None</td>\n",
       "      <td>1439238542224281601</td>\n",
       "      <td>Pragmatic heartlanders</td>\n",
       "    </tr>\n",
       "    <tr>\n",
       "      <th>1</th>\n",
       "      <td>92c7f7363deda546240a9b63d8a279d22c3f018329cd2a...</td>\n",
       "      <td>congenial-porcupine-of-pragmatic-enrichment</td>\n",
       "      <td>1405849658295918594</td>\n",
       "      <td>Fri Jun 18 19:27:32 SGT 2021</td>\n",
       "      <td>The current active #Covid19 #clusters in #Sing...</td>\n",
       "      <td>True</td>\n",
       "      <td>False</td>\n",
       "      <td>0</td>\n",
       "      <td>70</td>\n",
       "      <td>photo</td>\n",
       "      <td>Covid19 | clusters | Singapore</td>\n",
       "      <td>None</td>\n",
       "      <td>-1</td>\n",
       "      <td>Pragmatic heartlanders</td>\n",
       "    </tr>\n",
       "    <tr>\n",
       "      <th>2</th>\n",
       "      <td>92c7f7363deda546240a9b63d8a279d22c3f018329cd2a...</td>\n",
       "      <td>rebel-hissing-waxbill-of-pride</td>\n",
       "      <td>1396027145386795009</td>\n",
       "      <td>Sat May 22 16:56:23 SGT 2021</td>\n",
       "      <td>Somehow...I feel it coming. . . Judging from t...</td>\n",
       "      <td>True</td>\n",
       "      <td>False</td>\n",
       "      <td>0</td>\n",
       "      <td>117</td>\n",
       "      <td>None</td>\n",
       "      <td>None</td>\n",
       "      <td>None</td>\n",
       "      <td>-1</td>\n",
       "      <td>Pragmatic heartlanders</td>\n",
       "    </tr>\n",
       "    <tr>\n",
       "      <th>3</th>\n",
       "      <td>92c7f7363deda546240a9b63d8a279d22c3f018329cd2a...</td>\n",
       "      <td>stoic-psychedelic-squirrel-of-vigor</td>\n",
       "      <td>1388764925808447491</td>\n",
       "      <td>Sun May 02 15:58:54 SGT 2021</td>\n",
       "      <td>Pronunciation of AZ. . British: A-Zed. America...</td>\n",
       "      <td>True</td>\n",
       "      <td>False</td>\n",
       "      <td>0</td>\n",
       "      <td>15</td>\n",
       "      <td>None</td>\n",
       "      <td>None</td>\n",
       "      <td>None</td>\n",
       "      <td>-1</td>\n",
       "      <td>Pragmatic heartlanders</td>\n",
       "    </tr>\n",
       "    <tr>\n",
       "      <th>4</th>\n",
       "      <td>92c7f7363deda546240a9b63d8a279d22c3f018329cd2a...</td>\n",
       "      <td>handsome-famous-cassowary-of-glee</td>\n",
       "      <td>1377044390074404864</td>\n",
       "      <td>Wed Mar 31 07:45:41 SGT 2021</td>\n",
       "      <td>Since April Fools Day is fast approaching,. th...</td>\n",
       "      <td>True</td>\n",
       "      <td>False</td>\n",
       "      <td>0</td>\n",
       "      <td>47840</td>\n",
       "      <td>photo</td>\n",
       "      <td>None</td>\n",
       "      <td>None</td>\n",
       "      <td>-1</td>\n",
       "      <td>Pragmatic heartlanders</td>\n",
       "    </tr>\n",
       "  </tbody>\n",
       "</table>\n",
       "</div>"
      ],
      "text/plain": [
       "                                             user_id  \\\n",
       "0  92c7f7363deda546240a9b63d8a279d22c3f018329cd2a...   \n",
       "1  92c7f7363deda546240a9b63d8a279d22c3f018329cd2a...   \n",
       "2  92c7f7363deda546240a9b63d8a279d22c3f018329cd2a...   \n",
       "3  92c7f7363deda546240a9b63d8a279d22c3f018329cd2a...   \n",
       "4  92c7f7363deda546240a9b63d8a279d22c3f018329cd2a...   \n",
       "\n",
       "                                     user_name              post_id  \\\n",
       "0           spiked-determined-dragonfly-of-awe  1439238781253550085   \n",
       "1  congenial-porcupine-of-pragmatic-enrichment  1405849658295918594   \n",
       "2               rebel-hissing-waxbill-of-pride  1396027145386795009   \n",
       "3          stoic-psychedelic-squirrel-of-vigor  1388764925808447491   \n",
       "4            handsome-famous-cassowary-of-glee  1377044390074404864   \n",
       "\n",
       "                      post_date  \\\n",
       "0  Sat Sep 18 22:43:59 SGT 2021   \n",
       "1  Fri Jun 18 19:27:32 SGT 2021   \n",
       "2  Sat May 22 16:56:23 SGT 2021   \n",
       "3  Sun May 02 15:58:54 SGT 2021   \n",
       "4  Wed Mar 31 07:45:41 SGT 2021   \n",
       "\n",
       "                                        post_content  post_is_retweet  \\\n",
       "0  @anonymised_user Pah zhiam bueh pah zhiam bueh...            False   \n",
       "1  The current active #Covid19 #clusters in #Sing...             True   \n",
       "2  Somehow...I feel it coming. . . Judging from t...             True   \n",
       "3  Pronunciation of AZ. . British: A-Zed. America...             True   \n",
       "4  Since April Fools Day is fast approaching,. th...             True   \n",
       "\n",
       "   post_is_truncated  post_like_count  post_retweet_count post_media  \\\n",
       "0              False                0                   0       None   \n",
       "1              False                0                  70      photo   \n",
       "2              False                0                 117       None   \n",
       "3              False                0                  15       None   \n",
       "4              False                0               47840      photo   \n",
       "\n",
       "                    post_hashtags post_user_mentions  post_reply_to_post_id  \\\n",
       "0                            None               None    1439238542224281601   \n",
       "1  Covid19 | clusters | Singapore               None                     -1   \n",
       "2                            None               None                     -1   \n",
       "3                            None               None                     -1   \n",
       "4                            None               None                     -1   \n",
       "\n",
       "             segment_name  \n",
       "0  Pragmatic heartlanders  \n",
       "1  Pragmatic heartlanders  \n",
       "2  Pragmatic heartlanders  \n",
       "3  Pragmatic heartlanders  \n",
       "4  Pragmatic heartlanders  "
      ]
     },
     "execution_count": 33,
     "metadata": {},
     "output_type": "execute_result"
    }
   ],
   "source": [
    "df2_path = \"XDS Sustainability IRL Event Data x TW Posts x P1Y.parquet\"\n",
    "df2 = pd.read_parquet(df2_path, engine='fastparquet')\n",
    "\n",
    "df2.head()"
   ]
  },
  {
   "cell_type": "code",
   "execution_count": 34,
   "metadata": {},
   "outputs": [
    {
     "data": {
      "text/plain": [
       "463815"
      ]
     },
     "execution_count": 34,
     "metadata": {},
     "output_type": "execute_result"
    }
   ],
   "source": [
    "len(df2)"
   ]
  },
  {
   "cell_type": "markdown",
   "metadata": {},
   "source": [
    "## **Analyze Event Data of IG**"
   ]
  },
  {
   "cell_type": "markdown",
   "metadata": {},
   "source": [
    "### **Finding Important Hashtags where the Post Caption Contains the Word \"surplus\"**"
   ]
  },
  {
   "cell_type": "markdown",
   "metadata": {},
   "source": [
    "To look at the posts that are talking about surplus food, the simplest way to find it is filtering the captions based on the word \"surplus\" and finding the most frequently appearing hashtags as more unbiased word filter in the hashtags section. Therefore, the first goal is to find the most significant hashtags in both of the acquired data."
   ]
  },
  {
   "cell_type": "code",
   "execution_count": 35,
   "metadata": {},
   "outputs": [
    {
     "data": {
      "text/html": [
       "<div>\n",
       "<style scoped>\n",
       "    .dataframe tbody tr th:only-of-type {\n",
       "        vertical-align: middle;\n",
       "    }\n",
       "\n",
       "    .dataframe tbody tr th {\n",
       "        vertical-align: top;\n",
       "    }\n",
       "\n",
       "    .dataframe thead th {\n",
       "        text-align: right;\n",
       "    }\n",
       "</style>\n",
       "<table border=\"1\" class=\"dataframe\">\n",
       "  <thead>\n",
       "    <tr style=\"text-align: right;\">\n",
       "      <th></th>\n",
       "      <th>user_id</th>\n",
       "      <th>user_name</th>\n",
       "      <th>post_id</th>\n",
       "      <th>post_shortcode</th>\n",
       "      <th>post_type</th>\n",
       "      <th>post_date</th>\n",
       "      <th>post_caption</th>\n",
       "      <th>post_tagged_users</th>\n",
       "      <th>post_hashtags</th>\n",
       "      <th>post_mentions</th>\n",
       "      <th>post_comments</th>\n",
       "      <th>post_likes</th>\n",
       "      <th>segment_name</th>\n",
       "    </tr>\n",
       "  </thead>\n",
       "  <tbody>\n",
       "    <tr>\n",
       "      <th>0</th>\n",
       "      <td>dd710d44d2e9aab378d7aade54ad905ff6cec708798491...</td>\n",
       "      <td>inventive-outstanding-hyrax-of-climate</td>\n",
       "      <td>2145908354904938496</td>\n",
       "      <td>B3HzEd-ptaV</td>\n",
       "      <td>image</td>\n",
       "      <td>2019-10-02 16:03:52</td>\n",
       "      <td>we are always in search of the perfect tote wi...</td>\n",
       "      <td>None</td>\n",
       "      <td>#madeinindia|#sustainablelivelihoods|#sustaina...</td>\n",
       "      <td>None</td>\n",
       "      <td>0.0</td>\n",
       "      <td>57.0</td>\n",
       "      <td>Eco Changemakers</td>\n",
       "    </tr>\n",
       "    <tr>\n",
       "      <th>1</th>\n",
       "      <td>7e3da989912298664408f9c04c4719f1c7f99adc5e026e...</td>\n",
       "      <td>zippy-spry-coyote-from-heaven</td>\n",
       "      <td>2065766183910779904</td>\n",
       "      <td>ByrE2Y9BCq9</td>\n",
       "      <td>image</td>\n",
       "      <td>2019-06-14 02:15:40</td>\n",
       "      <td>As the first hotel in Southeast Asia to introd...</td>\n",
       "      <td>None</td>\n",
       "      <td>#sustainablehospitality|#recycled|#global|#com...</td>\n",
       "      <td>None</td>\n",
       "      <td>0.0</td>\n",
       "      <td>30.0</td>\n",
       "      <td>Eco Changemakers</td>\n",
       "    </tr>\n",
       "    <tr>\n",
       "      <th>2</th>\n",
       "      <td>32118c6a74ad86e8a94c47d56ea2bfe1a09e5bcae85e5b...</td>\n",
       "      <td>fanatic-keen-seahorse-of-potency</td>\n",
       "      <td>2227760228653154304</td>\n",
       "      <td>B7qmB_xnT-z</td>\n",
       "      <td>video</td>\n",
       "      <td>2020-01-23 14:31:06</td>\n",
       "      <td>HOW TO LOU HEI brought to you by Daydream and ...</td>\n",
       "      <td>None</td>\n",
       "      <td>#yearoftherat|#huatah|#louheiyusheng|#chinesef...</td>\n",
       "      <td>None</td>\n",
       "      <td>4.0</td>\n",
       "      <td>45.0</td>\n",
       "      <td>Socially Engaged Mavens</td>\n",
       "    </tr>\n",
       "    <tr>\n",
       "      <th>3</th>\n",
       "      <td>4e0e904a85f845f8beebee8d5f6ad0e9980bd228425224...</td>\n",
       "      <td>satisfied-fair-sturgeon-of-growth</td>\n",
       "      <td>2450061487857495040</td>\n",
       "      <td>CIAXfE1nGuU</td>\n",
       "      <td>image</td>\n",
       "      <td>2020-11-25 07:41:51</td>\n",
       "      <td>| reduce food loss * #sp #treedotseats \\nIt wa...</td>\n",
       "      <td>None</td>\n",
       "      <td>#sgeats|#singaporefood|#sghomecooks|#sgfoodies...</td>\n",
       "      <td>None</td>\n",
       "      <td>2.0</td>\n",
       "      <td>59.0</td>\n",
       "      <td>Eco Changemakers</td>\n",
       "    </tr>\n",
       "    <tr>\n",
       "      <th>4</th>\n",
       "      <td>9f649cdc94db5006931844c6c03270b38275313cbb383a...</td>\n",
       "      <td>outgoing-curvy-herring-of-recreation</td>\n",
       "      <td>2237548041057776128</td>\n",
       "      <td>B8NXhabHrJt</td>\n",
       "      <td>image</td>\n",
       "      <td>2020-02-06 02:35:34</td>\n",
       "      <td>When I first learned how to dumpster dive 3 ye...</td>\n",
       "      <td>None</td>\n",
       "      <td>None</td>\n",
       "      <td>None</td>\n",
       "      <td>0.0</td>\n",
       "      <td>23.0</td>\n",
       "      <td>Eco Changemakers</td>\n",
       "    </tr>\n",
       "  </tbody>\n",
       "</table>\n",
       "</div>"
      ],
      "text/plain": [
       "                                             user_id  \\\n",
       "0  dd710d44d2e9aab378d7aade54ad905ff6cec708798491...   \n",
       "1  7e3da989912298664408f9c04c4719f1c7f99adc5e026e...   \n",
       "2  32118c6a74ad86e8a94c47d56ea2bfe1a09e5bcae85e5b...   \n",
       "3  4e0e904a85f845f8beebee8d5f6ad0e9980bd228425224...   \n",
       "4  9f649cdc94db5006931844c6c03270b38275313cbb383a...   \n",
       "\n",
       "                                user_name              post_id post_shortcode  \\\n",
       "0  inventive-outstanding-hyrax-of-climate  2145908354904938496    B3HzEd-ptaV   \n",
       "1           zippy-spry-coyote-from-heaven  2065766183910779904    ByrE2Y9BCq9   \n",
       "2        fanatic-keen-seahorse-of-potency  2227760228653154304    B7qmB_xnT-z   \n",
       "3       satisfied-fair-sturgeon-of-growth  2450061487857495040    CIAXfE1nGuU   \n",
       "4    outgoing-curvy-herring-of-recreation  2237548041057776128    B8NXhabHrJt   \n",
       "\n",
       "  post_type            post_date  \\\n",
       "0     image  2019-10-02 16:03:52   \n",
       "1     image  2019-06-14 02:15:40   \n",
       "2     video  2020-01-23 14:31:06   \n",
       "3     image  2020-11-25 07:41:51   \n",
       "4     image  2020-02-06 02:35:34   \n",
       "\n",
       "                                        post_caption post_tagged_users  \\\n",
       "0  we are always in search of the perfect tote wi...              None   \n",
       "1  As the first hotel in Southeast Asia to introd...              None   \n",
       "2  HOW TO LOU HEI brought to you by Daydream and ...              None   \n",
       "3  | reduce food loss * #sp #treedotseats \\nIt wa...              None   \n",
       "4  When I first learned how to dumpster dive 3 ye...              None   \n",
       "\n",
       "                                       post_hashtags post_mentions  \\\n",
       "0  #madeinindia|#sustainablelivelihoods|#sustaina...          None   \n",
       "1  #sustainablehospitality|#recycled|#global|#com...          None   \n",
       "2  #yearoftherat|#huatah|#louheiyusheng|#chinesef...          None   \n",
       "3  #sgeats|#singaporefood|#sghomecooks|#sgfoodies...          None   \n",
       "4                                               None          None   \n",
       "\n",
       "   post_comments  post_likes             segment_name  \n",
       "0            0.0        57.0         Eco Changemakers  \n",
       "1            0.0        30.0         Eco Changemakers  \n",
       "2            4.0        45.0  Socially Engaged Mavens  \n",
       "3            2.0        59.0         Eco Changemakers  \n",
       "4            0.0        23.0         Eco Changemakers  "
      ]
     },
     "execution_count": 35,
     "metadata": {},
     "output_type": "execute_result"
    }
   ],
   "source": [
    "keywords = \"surplus\" or \"food\"\n",
    "\n",
    "#Match the words in post_caption with keywords, drop row if no match\n",
    "df1_kw = df1.loc[df1.post_caption.str.contains(keywords) == True] #kw stands for keyword\n",
    "df1_kw = df1_kw.reset_index(drop = True) #just to make the index start from 0, 1, 2, 3, ...\n",
    "df1_kw.head(5)"
   ]
  },
  {
   "cell_type": "code",
   "execution_count": 36,
   "metadata": {},
   "outputs": [
    {
     "data": {
      "text/plain": [
       "57"
      ]
     },
     "execution_count": 36,
     "metadata": {},
     "output_type": "execute_result"
    }
   ],
   "source": [
    "len(df1_kw)"
   ]
  },
  {
   "cell_type": "code",
   "execution_count": 37,
   "metadata": {},
   "outputs": [
    {
     "data": {
      "text/plain": [
       "0    1\n",
       "1    1\n",
       "2    1\n",
       "3    1\n",
       "4    1\n",
       "Name: post_caption, dtype: int64"
      ]
     },
     "execution_count": 37,
     "metadata": {},
     "output_type": "execute_result"
    }
   ],
   "source": [
    "keyword_count = df1_kw.post_caption.str.count(keywords)\n",
    "keyword_count.head(5)"
   ]
  },
  {
   "cell_type": "code",
   "execution_count": 38,
   "metadata": {},
   "outputs": [
    {
     "name": "stderr",
     "output_type": "stream",
     "text": [
      "C:\\Users\\AW\\AppData\\Local\\Temp/ipykernel_8700/2150378566.py:6: SettingWithCopyWarning: \n",
      "A value is trying to be set on a copy of a slice from a DataFrame\n",
      "\n",
      "See the caveats in the documentation: https://pandas.pydata.org/pandas-docs/stable/user_guide/indexing.html#returning-a-view-versus-a-copy\n",
      "  df1_kw['post_hashtags'][i] = df1_kw.post_hashtags[i].split('|')\n"
     ]
    }
   ],
   "source": [
    "# Splitting strings in post_hashtags column so each hashtag can be accessed as part of a list\n",
    "for i in range(len(df1_kw.post_hashtags)):\n",
    "    # There are NoneType and String data\n",
    "    # As the split() method can only work on string data, we need to use python error handling\n",
    "    try:\n",
    "        df1_kw['post_hashtags'][i] = df1_kw.post_hashtags[i].split('|')\n",
    "    except:\n",
    "        pass"
   ]
  },
  {
   "cell_type": "code",
   "execution_count": 39,
   "metadata": {},
   "outputs": [
    {
     "data": {
      "text/plain": [
       "0    [#madeinindia, #sustainablelivelihoods, #susta...\n",
       "1    [#sustainablehospitality, #recycled, #global, ...\n",
       "2    [#yearoftherat, #huatah, #louheiyusheng, #chin...\n",
       "3    [#sgeats, #singaporefood, #sghomecooks, #sgfoo...\n",
       "4                                                 None\n",
       "Name: post_hashtags, dtype: object"
      ]
     },
     "execution_count": 39,
     "metadata": {},
     "output_type": "execute_result"
    }
   ],
   "source": [
    "#Checking whether the post_hashtags column has been split or not\n",
    "df1_kw.post_hashtags.head()"
   ]
  },
  {
   "cell_type": "markdown",
   "metadata": {},
   "source": [
    "### **How many times does each hashtag appears?**"
   ]
  },
  {
   "cell_type": "code",
   "execution_count": 40,
   "metadata": {},
   "outputs": [
    {
     "data": {
      "text/plain": [
       "0               #madeinindia\n",
       "1    #sustainablelivelihoods\n",
       "2          #sustainablebrand\n",
       "3          #womenempowerment\n",
       "4                #bagaddicts\n",
       "dtype: object"
      ]
     },
     "execution_count": 40,
     "metadata": {},
     "output_type": "execute_result"
    }
   ],
   "source": [
    "ig_hashtags_combine = [] #This variable will be used to store the all the available hashtag values as a string\n",
    "\n",
    "#if entry in post_hashtags is a list --> take each entry in the list and store to ig_hashtags_combine\n",
    "for i in range(len(df1_kw.post_hashtags)):\n",
    "    if type(df1_kw.post_hashtags[i]) == list:\n",
    "        for j in df1_kw.post_hashtags[i]:\n",
    "            ig_hashtags_combine.append(j)\n",
    "\n",
    "ig_hashtags_combine = pd.Series(k for k in ig_hashtags_combine)\n",
    "ig_hashtags_combine.head()"
   ]
  },
  {
   "cell_type": "code",
   "execution_count": 41,
   "metadata": {},
   "outputs": [
    {
     "data": {
      "text/plain": [
       "#sgfood              7\n",
       "#sustainable         6\n",
       "#sgfoodies           6\n",
       "#singaporefood       6\n",
       "#goodfoodpeoplesg    5\n",
       "dtype: int64"
      ]
     },
     "execution_count": 41,
     "metadata": {},
     "output_type": "execute_result"
    }
   ],
   "source": [
    "#ig_hashtags_combine needs to be converted to a Series due to the availability of value_counts() method when used on a pandas Series\n",
    "ig_hashtags_count = ig_hashtags_combine.value_counts() #This variable stores the number of counts for every unique value in ig_hashtags_combine\n",
    "ig_hashtags_count.head()"
   ]
  },
  {
   "cell_type": "markdown",
   "metadata": {},
   "source": [
    "### **From how many number of occurences should we start choosing?**"
   ]
  },
  {
   "cell_type": "code",
   "execution_count": 42,
   "metadata": {},
   "outputs": [
    {
     "data": {
      "text/plain": [
       "1    205\n",
       "2     38\n",
       "3      5\n",
       "4      4\n",
       "5     12\n",
       "6      3\n",
       "7      1\n",
       "dtype: int64"
      ]
     },
     "execution_count": 42,
     "metadata": {},
     "output_type": "execute_result"
    }
   ],
   "source": [
    "#See how many times each count appears (frequency for every count)\n",
    "ig_hashtags_count_freq = ig_hashtags_count.value_counts().sort_index()\n",
    "ig_hashtags_count_freq"
   ]
  },
  {
   "cell_type": "code",
   "execution_count": 43,
   "metadata": {},
   "outputs": [
    {
     "data": {
      "text/plain": [
       "Text(0, 0.5, 'Frequency')"
      ]
     },
     "execution_count": 43,
     "metadata": {},
     "output_type": "execute_result"
    },
    {
     "data": {
      "image/png": "[encoded data removed]",
      "text/plain": [
       "<Figure size 432x288 with 1 Axes>"
      ]
     },
     "metadata": {
      "needs_background": "light"
     },
     "output_type": "display_data"
    }
   ],
   "source": [
    "#To visualize how skewed the data is, a plot can be used\n",
    "plt.plot(ig_hashtags_count_freq.index,ig_hashtags_count_freq)\n",
    "plt.xlabel('Hashtags Occurence Count')\n",
    "plt.ylabel('Frequency')"
   ]
  },
  {
   "cell_type": "code",
   "execution_count": 44,
   "metadata": {},
   "outputs": [
    {
     "data": {
      "text/plain": [
       "5.0"
      ]
     },
     "execution_count": 44,
     "metadata": {},
     "output_type": "execute_result"
    }
   ],
   "source": [
    "#The data is very skewed to the smaller Hashtags Occurence Count side\n",
    "#Therefore, we don't have to worry about picking a larger number for the start of the ig_hashtags_count as it gives a tighter selection, \n",
    "#yet keeping it unbiased.\n",
    "\n",
    "#Select from 0.95 quantile\n",
    "ig_min_hash_count = ig_hashtags_count.quantile(0.95)\n",
    "ig_min_hash_count"
   ]
  },
  {
   "cell_type": "code",
   "execution_count": 45,
   "metadata": {},
   "outputs": [
    {
     "name": "stdout",
     "output_type": "stream",
     "text": [
      "['#sgfood', '#sustainable', '#sgfoodies', '#singaporefood', '#goodfoodpeoplesg', '#vegan', '#meatless', '#plantbasedfoods', '#eatwideawake', '#homecoking', '#cookingmadeeasy', '#plantbaseddiet', '#igsgfoodies', '#goodfoodpeople', '#vegetarian', '#sustainability'] 16\n"
     ]
    }
   ],
   "source": [
    "ig_hashtags_count = ig_hashtags_count[ig_hashtags_count >= ig_min_hash_count] #Filter the Series based on the number of counts\n",
    "ig_important_hashtags = ig_hashtags_count.index.to_list()\n",
    "print(ig_important_hashtags,len(ig_important_hashtags))"
   ]
  },
  {
   "cell_type": "code",
   "execution_count": 46,
   "metadata": {},
   "outputs": [],
   "source": [
    "#As can be seen these are the most important hashtags we need to look at\n",
    "#To save it, we can also put those in a txt file\n",
    "with open('ig_important_hashtags.txt', 'w') as f:\n",
    "    for i in ig_important_hashtags:\n",
    "        f.write(i)\n",
    "        f.write('\\n')"
   ]
  },
  {
   "cell_type": "markdown",
   "metadata": {},
   "source": [
    "## **Analyze Event Data of TW**"
   ]
  },
  {
   "cell_type": "markdown",
   "metadata": {},
   "source": [
    "### **Finding Important Hashtags where the Post Content Contains the Word \"surplus\"**"
   ]
  },
  {
   "cell_type": "markdown",
   "metadata": {},
   "source": [
    "The same method will be used with the IG data, but the post_caption and post_likes will be replaced to post_content and post_retweet_count, as they are equivalent in their significance."
   ]
  },
  {
   "cell_type": "code",
   "execution_count": 47,
   "metadata": {},
   "outputs": [
    {
     "data": {
      "text/html": [
       "<div>\n",
       "<style scoped>\n",
       "    .dataframe tbody tr th:only-of-type {\n",
       "        vertical-align: middle;\n",
       "    }\n",
       "\n",
       "    .dataframe tbody tr th {\n",
       "        vertical-align: top;\n",
       "    }\n",
       "\n",
       "    .dataframe thead th {\n",
       "        text-align: right;\n",
       "    }\n",
       "</style>\n",
       "<table border=\"1\" class=\"dataframe\">\n",
       "  <thead>\n",
       "    <tr style=\"text-align: right;\">\n",
       "      <th></th>\n",
       "      <th>user_id</th>\n",
       "      <th>user_name</th>\n",
       "      <th>post_id</th>\n",
       "      <th>post_date</th>\n",
       "      <th>post_content</th>\n",
       "      <th>post_is_retweet</th>\n",
       "      <th>post_is_truncated</th>\n",
       "      <th>post_like_count</th>\n",
       "      <th>post_retweet_count</th>\n",
       "      <th>post_media</th>\n",
       "      <th>post_hashtags</th>\n",
       "      <th>post_user_mentions</th>\n",
       "      <th>post_reply_to_post_id</th>\n",
       "      <th>segment_name</th>\n",
       "    </tr>\n",
       "  </thead>\n",
       "  <tbody>\n",
       "    <tr>\n",
       "      <th>0</th>\n",
       "      <td>3575a71ae2a773a701cf1c9dc77de7007a8bef07b62042...</td>\n",
       "      <td>sly-coral-barnacle-of-warranty</td>\n",
       "      <td>1418585511317282819</td>\n",
       "      <td>Fri Jul 23 22:55:16 SGT 2021</td>\n",
       "      <td>What has the #US done at home &amp; offered to the...</td>\n",
       "      <td>True</td>\n",
       "      <td>False</td>\n",
       "      <td>0</td>\n",
       "      <td>78</td>\n",
       "      <td>None</td>\n",
       "      <td>US | virus</td>\n",
       "      <td>None</td>\n",
       "      <td>-1</td>\n",
       "      <td>Pragmatic heartlanders</td>\n",
       "    </tr>\n",
       "    <tr>\n",
       "      <th>1</th>\n",
       "      <td>c95f4fcdc0c23acbaf9e5f2daabc3236662cb124194c28...</td>\n",
       "      <td>fantastic-enigmatic-ostrich-of-temperance</td>\n",
       "      <td>1396456740967751683</td>\n",
       "      <td>Sun May 23 21:23:26 SGT 2021</td>\n",
       "      <td>Our video Horde shows us what could happen if ...</td>\n",
       "      <td>True</td>\n",
       "      <td>False</td>\n",
       "      <td>0</td>\n",
       "      <td>8</td>\n",
       "      <td>video</td>\n",
       "      <td>COVID19</td>\n",
       "      <td>None</td>\n",
       "      <td>-1</td>\n",
       "      <td>Pragmatic heartlanders</td>\n",
       "    </tr>\n",
       "    <tr>\n",
       "      <th>2</th>\n",
       "      <td>c75f29a1c267c02aa613951ac300c49378b74488b52817...</td>\n",
       "      <td>polite-brave-coyote-of-joviality</td>\n",
       "      <td>1302894929342070785</td>\n",
       "      <td>Mon Sep 07 17:02:12 SGT 2020</td>\n",
       "      <td>Egypt is weighing a plan to sell its surplus p...</td>\n",
       "      <td>True</td>\n",
       "      <td>False</td>\n",
       "      <td>0</td>\n",
       "      <td>36</td>\n",
       "      <td>None</td>\n",
       "      <td>None</td>\n",
       "      <td>None</td>\n",
       "      <td>-1</td>\n",
       "      <td>Eco Changemakers</td>\n",
       "    </tr>\n",
       "    <tr>\n",
       "      <th>3</th>\n",
       "      <td>7c0c65d81f223dd1c7580f640ef3a30ce1184bbd6efa7e...</td>\n",
       "      <td>whispering-stereotyped-bug-of-amplitude</td>\n",
       "      <td>1412718779197390855</td>\n",
       "      <td>Wed Jul 07 18:22:58 SGT 2021</td>\n",
       "      <td>@anonymised_user  surplus char siew</td>\n",
       "      <td>False</td>\n",
       "      <td>False</td>\n",
       "      <td>0</td>\n",
       "      <td>0</td>\n",
       "      <td>None</td>\n",
       "      <td>None</td>\n",
       "      <td>None</td>\n",
       "      <td>1412718376045080581</td>\n",
       "      <td>Eco Changemakers</td>\n",
       "    </tr>\n",
       "    <tr>\n",
       "      <th>4</th>\n",
       "      <td>cdaf39637d300126f3aba788076577669744391e0fab3a...</td>\n",
       "      <td>cherubic-tireless-giraffe-of-vigor</td>\n",
       "      <td>1395595309904908291</td>\n",
       "      <td>Fri May 21 12:20:25 SGT 2021</td>\n",
       "      <td>@anonymised_user @anonymised_user The surplus ...</td>\n",
       "      <td>False</td>\n",
       "      <td>False</td>\n",
       "      <td>0</td>\n",
       "      <td>0</td>\n",
       "      <td>None</td>\n",
       "      <td>None</td>\n",
       "      <td>None</td>\n",
       "      <td>1395589940734357509</td>\n",
       "      <td>Eco Futurists</td>\n",
       "    </tr>\n",
       "  </tbody>\n",
       "</table>\n",
       "</div>"
      ],
      "text/plain": [
       "                                             user_id  \\\n",
       "0  3575a71ae2a773a701cf1c9dc77de7007a8bef07b62042...   \n",
       "1  c95f4fcdc0c23acbaf9e5f2daabc3236662cb124194c28...   \n",
       "2  c75f29a1c267c02aa613951ac300c49378b74488b52817...   \n",
       "3  7c0c65d81f223dd1c7580f640ef3a30ce1184bbd6efa7e...   \n",
       "4  cdaf39637d300126f3aba788076577669744391e0fab3a...   \n",
       "\n",
       "                                   user_name              post_id  \\\n",
       "0             sly-coral-barnacle-of-warranty  1418585511317282819   \n",
       "1  fantastic-enigmatic-ostrich-of-temperance  1396456740967751683   \n",
       "2           polite-brave-coyote-of-joviality  1302894929342070785   \n",
       "3    whispering-stereotyped-bug-of-amplitude  1412718779197390855   \n",
       "4         cherubic-tireless-giraffe-of-vigor  1395595309904908291   \n",
       "\n",
       "                      post_date  \\\n",
       "0  Fri Jul 23 22:55:16 SGT 2021   \n",
       "1  Sun May 23 21:23:26 SGT 2021   \n",
       "2  Mon Sep 07 17:02:12 SGT 2020   \n",
       "3  Wed Jul 07 18:22:58 SGT 2021   \n",
       "4  Fri May 21 12:20:25 SGT 2021   \n",
       "\n",
       "                                        post_content  post_is_retweet  \\\n",
       "0  What has the #US done at home & offered to the...             True   \n",
       "1  Our video Horde shows us what could happen if ...             True   \n",
       "2  Egypt is weighing a plan to sell its surplus p...             True   \n",
       "3                @anonymised_user  surplus char siew            False   \n",
       "4  @anonymised_user @anonymised_user The surplus ...            False   \n",
       "\n",
       "   post_is_truncated  post_like_count  post_retweet_count post_media  \\\n",
       "0              False                0                  78       None   \n",
       "1              False                0                   8      video   \n",
       "2              False                0                  36       None   \n",
       "3              False                0                   0       None   \n",
       "4              False                0                   0       None   \n",
       "\n",
       "  post_hashtags post_user_mentions  post_reply_to_post_id  \\\n",
       "0    US | virus               None                     -1   \n",
       "1       COVID19               None                     -1   \n",
       "2          None               None                     -1   \n",
       "3          None               None    1412718376045080581   \n",
       "4          None               None    1395589940734357509   \n",
       "\n",
       "             segment_name  \n",
       "0  Pragmatic heartlanders  \n",
       "1  Pragmatic heartlanders  \n",
       "2        Eco Changemakers  \n",
       "3        Eco Changemakers  \n",
       "4           Eco Futurists  "
      ]
     },
     "execution_count": 47,
     "metadata": {},
     "output_type": "execute_result"
    }
   ],
   "source": [
    "keywords = \"surplus\" or \"food\"\n",
    "\n",
    "#Match the words in post_caption with keywords, drop row if no match\n",
    "df2_kw = df2.loc[df2.post_content.str.contains(keywords) == True]\n",
    "df2_kw = df2_kw.reset_index(drop = True) #to make the index 0, 1, 2, 3, ...\n",
    "df2_kw.head(5)"
   ]
  },
  {
   "cell_type": "code",
   "execution_count": 48,
   "metadata": {},
   "outputs": [
    {
     "data": {
      "text/plain": [
       "39"
      ]
     },
     "execution_count": 48,
     "metadata": {},
     "output_type": "execute_result"
    }
   ],
   "source": [
    "len(df2_kw) #Checking the row size"
   ]
  },
  {
   "cell_type": "code",
   "execution_count": 49,
   "metadata": {},
   "outputs": [
    {
     "name": "stderr",
     "output_type": "stream",
     "text": [
      "C:\\Users\\AW\\AppData\\Local\\Temp/ipykernel_8700/4111390066.py:5: SettingWithCopyWarning: \n",
      "A value is trying to be set on a copy of a slice from a DataFrame\n",
      "\n",
      "See the caveats in the documentation: https://pandas.pydata.org/pandas-docs/stable/user_guide/indexing.html#returning-a-view-versus-a-copy\n",
      "  df2_kw['post_hashtags'][i] = df2_kw.post_hashtags[i].split('|')\n"
     ]
    }
   ],
   "source": [
    "for i in range(len(df2_kw.post_hashtags)):\n",
    "    # There are NoneType and String data\n",
    "    # As the split() method can only work on string data, we need to use python error handling\n",
    "    if (type(df2_kw.post_hashtags[i]) == str):\n",
    "        df2_kw['post_hashtags'][i] = df2_kw.post_hashtags[i].split('|')\n",
    "    else:\n",
    "        pass"
   ]
  },
  {
   "cell_type": "code",
   "execution_count": 50,
   "metadata": {},
   "outputs": [
    {
     "data": {
      "text/html": [
       "<div>\n",
       "<style scoped>\n",
       "    .dataframe tbody tr th:only-of-type {\n",
       "        vertical-align: middle;\n",
       "    }\n",
       "\n",
       "    .dataframe tbody tr th {\n",
       "        vertical-align: top;\n",
       "    }\n",
       "\n",
       "    .dataframe thead th {\n",
       "        text-align: right;\n",
       "    }\n",
       "</style>\n",
       "<table border=\"1\" class=\"dataframe\">\n",
       "  <thead>\n",
       "    <tr style=\"text-align: right;\">\n",
       "      <th></th>\n",
       "      <th>user_id</th>\n",
       "      <th>user_name</th>\n",
       "      <th>post_id</th>\n",
       "      <th>post_date</th>\n",
       "      <th>post_content</th>\n",
       "      <th>post_is_retweet</th>\n",
       "      <th>post_is_truncated</th>\n",
       "      <th>post_like_count</th>\n",
       "      <th>post_retweet_count</th>\n",
       "      <th>post_media</th>\n",
       "      <th>post_hashtags</th>\n",
       "      <th>post_user_mentions</th>\n",
       "      <th>post_reply_to_post_id</th>\n",
       "      <th>segment_name</th>\n",
       "    </tr>\n",
       "  </thead>\n",
       "  <tbody>\n",
       "    <tr>\n",
       "      <th>0</th>\n",
       "      <td>3575a71ae2a773a701cf1c9dc77de7007a8bef07b62042...</td>\n",
       "      <td>sly-coral-barnacle-of-warranty</td>\n",
       "      <td>1418585511317282819</td>\n",
       "      <td>Fri Jul 23 22:55:16 SGT 2021</td>\n",
       "      <td>What has the #US done at home &amp; offered to the...</td>\n",
       "      <td>True</td>\n",
       "      <td>False</td>\n",
       "      <td>0</td>\n",
       "      <td>78</td>\n",
       "      <td>None</td>\n",
       "      <td>[US ,  virus]</td>\n",
       "      <td>None</td>\n",
       "      <td>-1</td>\n",
       "      <td>Pragmatic heartlanders</td>\n",
       "    </tr>\n",
       "    <tr>\n",
       "      <th>1</th>\n",
       "      <td>c95f4fcdc0c23acbaf9e5f2daabc3236662cb124194c28...</td>\n",
       "      <td>fantastic-enigmatic-ostrich-of-temperance</td>\n",
       "      <td>1396456740967751683</td>\n",
       "      <td>Sun May 23 21:23:26 SGT 2021</td>\n",
       "      <td>Our video Horde shows us what could happen if ...</td>\n",
       "      <td>True</td>\n",
       "      <td>False</td>\n",
       "      <td>0</td>\n",
       "      <td>8</td>\n",
       "      <td>video</td>\n",
       "      <td>[COVID19]</td>\n",
       "      <td>None</td>\n",
       "      <td>-1</td>\n",
       "      <td>Pragmatic heartlanders</td>\n",
       "    </tr>\n",
       "    <tr>\n",
       "      <th>2</th>\n",
       "      <td>c75f29a1c267c02aa613951ac300c49378b74488b52817...</td>\n",
       "      <td>polite-brave-coyote-of-joviality</td>\n",
       "      <td>1302894929342070785</td>\n",
       "      <td>Mon Sep 07 17:02:12 SGT 2020</td>\n",
       "      <td>Egypt is weighing a plan to sell its surplus p...</td>\n",
       "      <td>True</td>\n",
       "      <td>False</td>\n",
       "      <td>0</td>\n",
       "      <td>36</td>\n",
       "      <td>None</td>\n",
       "      <td>None</td>\n",
       "      <td>None</td>\n",
       "      <td>-1</td>\n",
       "      <td>Eco Changemakers</td>\n",
       "    </tr>\n",
       "    <tr>\n",
       "      <th>3</th>\n",
       "      <td>7c0c65d81f223dd1c7580f640ef3a30ce1184bbd6efa7e...</td>\n",
       "      <td>whispering-stereotyped-bug-of-amplitude</td>\n",
       "      <td>1412718779197390855</td>\n",
       "      <td>Wed Jul 07 18:22:58 SGT 2021</td>\n",
       "      <td>@anonymised_user  surplus char siew</td>\n",
       "      <td>False</td>\n",
       "      <td>False</td>\n",
       "      <td>0</td>\n",
       "      <td>0</td>\n",
       "      <td>None</td>\n",
       "      <td>None</td>\n",
       "      <td>None</td>\n",
       "      <td>1412718376045080581</td>\n",
       "      <td>Eco Changemakers</td>\n",
       "    </tr>\n",
       "    <tr>\n",
       "      <th>4</th>\n",
       "      <td>cdaf39637d300126f3aba788076577669744391e0fab3a...</td>\n",
       "      <td>cherubic-tireless-giraffe-of-vigor</td>\n",
       "      <td>1395595309904908291</td>\n",
       "      <td>Fri May 21 12:20:25 SGT 2021</td>\n",
       "      <td>@anonymised_user @anonymised_user The surplus ...</td>\n",
       "      <td>False</td>\n",
       "      <td>False</td>\n",
       "      <td>0</td>\n",
       "      <td>0</td>\n",
       "      <td>None</td>\n",
       "      <td>None</td>\n",
       "      <td>None</td>\n",
       "      <td>1395589940734357509</td>\n",
       "      <td>Eco Futurists</td>\n",
       "    </tr>\n",
       "  </tbody>\n",
       "</table>\n",
       "</div>"
      ],
      "text/plain": [
       "                                             user_id  \\\n",
       "0  3575a71ae2a773a701cf1c9dc77de7007a8bef07b62042...   \n",
       "1  c95f4fcdc0c23acbaf9e5f2daabc3236662cb124194c28...   \n",
       "2  c75f29a1c267c02aa613951ac300c49378b74488b52817...   \n",
       "3  7c0c65d81f223dd1c7580f640ef3a30ce1184bbd6efa7e...   \n",
       "4  cdaf39637d300126f3aba788076577669744391e0fab3a...   \n",
       "\n",
       "                                   user_name              post_id  \\\n",
       "0             sly-coral-barnacle-of-warranty  1418585511317282819   \n",
       "1  fantastic-enigmatic-ostrich-of-temperance  1396456740967751683   \n",
       "2           polite-brave-coyote-of-joviality  1302894929342070785   \n",
       "3    whispering-stereotyped-bug-of-amplitude  1412718779197390855   \n",
       "4         cherubic-tireless-giraffe-of-vigor  1395595309904908291   \n",
       "\n",
       "                      post_date  \\\n",
       "0  Fri Jul 23 22:55:16 SGT 2021   \n",
       "1  Sun May 23 21:23:26 SGT 2021   \n",
       "2  Mon Sep 07 17:02:12 SGT 2020   \n",
       "3  Wed Jul 07 18:22:58 SGT 2021   \n",
       "4  Fri May 21 12:20:25 SGT 2021   \n",
       "\n",
       "                                        post_content  post_is_retweet  \\\n",
       "0  What has the #US done at home & offered to the...             True   \n",
       "1  Our video Horde shows us what could happen if ...             True   \n",
       "2  Egypt is weighing a plan to sell its surplus p...             True   \n",
       "3                @anonymised_user  surplus char siew            False   \n",
       "4  @anonymised_user @anonymised_user The surplus ...            False   \n",
       "\n",
       "   post_is_truncated  post_like_count  post_retweet_count post_media  \\\n",
       "0              False                0                  78       None   \n",
       "1              False                0                   8      video   \n",
       "2              False                0                  36       None   \n",
       "3              False                0                   0       None   \n",
       "4              False                0                   0       None   \n",
       "\n",
       "   post_hashtags post_user_mentions  post_reply_to_post_id  \\\n",
       "0  [US ,  virus]               None                     -1   \n",
       "1      [COVID19]               None                     -1   \n",
       "2           None               None                     -1   \n",
       "3           None               None    1412718376045080581   \n",
       "4           None               None    1395589940734357509   \n",
       "\n",
       "             segment_name  \n",
       "0  Pragmatic heartlanders  \n",
       "1  Pragmatic heartlanders  \n",
       "2        Eco Changemakers  \n",
       "3        Eco Changemakers  \n",
       "4           Eco Futurists  "
      ]
     },
     "execution_count": 50,
     "metadata": {},
     "output_type": "execute_result"
    }
   ],
   "source": [
    "df2_kw.head()"
   ]
  },
  {
   "cell_type": "code",
   "execution_count": 51,
   "metadata": {},
   "outputs": [
    {
     "data": {
      "text/plain": [
       "0                     US \n",
       "1                   virus\n",
       "2                 COVID19\n",
       "3                   solar\n",
       "4            surplusfood \n",
       "5           Courtauld2025\n",
       "6                 covid19\n",
       "7         firstusepolicy \n",
       "8          makegoodhappen\n",
       "9     christmasleftovers \n",
       "10             plantbased\n",
       "dtype: object"
      ]
     },
     "execution_count": 51,
     "metadata": {},
     "output_type": "execute_result"
    }
   ],
   "source": [
    "tw_hashtags_combine = []\n",
    "\n",
    "#if entry in post_hashtags is a list --> take each entry in the list and store to hashtags_contain\n",
    "for i in range(len(df2_kw.post_hashtags)):\n",
    "    if type(df2_kw.post_hashtags[i]) == list:\n",
    "        for j in df2_kw.post_hashtags[i]:\n",
    "            tw_hashtags_combine.append(j)\n",
    "\n",
    "tw_hashtags_combine = pd.Series(k for k in tw_hashtags_combine)\n",
    "tw_hashtags_combine"
   ]
  },
  {
   "cell_type": "markdown",
   "metadata": {},
   "source": [
    "### **How many times does each of them occur?**"
   ]
  },
  {
   "cell_type": "code",
   "execution_count": 52,
   "metadata": {},
   "outputs": [
    {
     "name": "stdout",
     "output_type": "stream",
     "text": [
      "US                     1\n",
      " virus                 1\n",
      "COVID19                1\n",
      "solar                  1\n",
      "surplusfood            1\n",
      " Courtauld2025         1\n",
      "covid19                1\n",
      "firstusepolicy         1\n",
      " makegoodhappen        1\n",
      "christmasleftovers     1\n",
      " plantbased            1\n",
      "dtype: int64\n"
     ]
    }
   ],
   "source": [
    "tw_hashtags_count = tw_hashtags_combine.value_counts()\n",
    "\n",
    "#Display everything in the series\n",
    "with pd.option_context('display.max_rows', None, 'display.max_columns', None):  # more options can be specified also\n",
    "    print(tw_hashtags_count)"
   ]
  },
  {
   "cell_type": "code",
   "execution_count": 53,
   "metadata": {},
   "outputs": [
    {
     "data": {
      "text/plain": [
       "1    11\n",
       "dtype: int64"
      ]
     },
     "execution_count": 53,
     "metadata": {},
     "output_type": "execute_result"
    }
   ],
   "source": [
    "#Show how many times the tw_hashtags_count appear\n",
    "tw_hashtags_count_freq = tw_hashtags_count.value_counts().sort_index()\n",
    "tw_hashtags_count_freq"
   ]
  },
  {
   "cell_type": "markdown",
   "metadata": {},
   "source": [
    "### **How can we select the significant hashtags in this data?**"
   ]
  },
  {
   "cell_type": "markdown",
   "metadata": {},
   "source": [
    "As there is little data on this, we can manually pick which hashtags we want based on what the names mean with the help of google search."
   ]
  },
  {
   "cell_type": "code",
   "execution_count": 54,
   "metadata": {},
   "outputs": [
    {
     "name": "stdout",
     "output_type": "stream",
     "text": [
      "['surplusfood', 'Courtauld2025', 'christmasleftovers', 'plantbased'] 4\n"
     ]
    }
   ],
   "source": [
    "#Choose manually\n",
    "tw_important_hashtags = ['surplusfood', 'Courtauld2025', 'christmasleftovers','plantbased']\n",
    "print(tw_important_hashtags, len(tw_important_hashtags))"
   ]
  },
  {
   "cell_type": "code",
   "execution_count": 55,
   "metadata": {},
   "outputs": [],
   "source": [
    "#Store data in txt file just to be safe\n",
    "with open('tw_important_hashtags.txt', 'w') as f:\n",
    "    for i in tw_important_hashtags:\n",
    "        f.write(i)\n",
    "        f.write('\\n')"
   ]
  },
  {
   "cell_type": "markdown",
   "metadata": {},
   "source": [
    "## **Closure for Initial Filtering Part**"
   ]
  },
  {
   "cell_type": "markdown",
   "metadata": {},
   "source": [
    "Now we have selected the hashtags that we want both from instagram and twitter. Later on, these hashtags will be used to filter both instagram and twitter event data tables on their respective post_hashtags column. However, as python is relatively slow in processing very large data, we will use a faster tool, SQL, to filter out these hashtags in part 2."
   ]
  },
  {
   "cell_type": "code",
   "execution_count": 56,
   "metadata": {},
   "outputs": [
    {
     "name": "stdout",
     "output_type": "stream",
     "text": [
      "#sgfood\n",
      "#sustainable\n",
      "#sgfoodies\n",
      "#singaporefood\n",
      "#goodfoodpeoplesg\n",
      "#vegan\n",
      "#meatless\n",
      "#plantbasedfoods\n",
      "#eatwideawake\n",
      "#homecoking\n",
      "#cookingmadeeasy\n",
      "#plantbaseddiet\n",
      "#igsgfoodies\n",
      "#goodfoodpeople\n",
      "#vegetarian\n",
      "#sustainability\n"
     ]
    }
   ],
   "source": [
    "#Instagram Hashtags\n",
    "for i in ig_important_hashtags:\n",
    "    print(i)"
   ]
  },
  {
   "cell_type": "code",
   "execution_count": 57,
   "metadata": {},
   "outputs": [
    {
     "name": "stdout",
     "output_type": "stream",
     "text": [
      "surplusfood\n",
      "Courtauld2025\n",
      "christmasleftovers\n",
      "plantbased\n"
     ]
    }
   ],
   "source": [
    "#Twitter hashtags\n",
    "for i in tw_important_hashtags:\n",
    "    print(i)"
   ]
  }
 ],
 "metadata": {
  "interpreter": {
   "hash": "63fd5069d213b44bf678585dea6b12cceca9941eaf7f819626cde1f2670de90d"
  },
  "kernelspec": {
   "display_name": "Python 3.9.5 64-bit",
   "name": "python3"
  },
  "language_info": {
   "codemirror_mode": {
    "name": "ipython",
    "version": 3
   },
   "file_extension": ".py",
   "mimetype": "text/x-python",
   "name": "python",
   "nbconvert_exporter": "python",
   "pygments_lexer": "ipython3",
   "version": "3.9.5"
  },
  "orig_nbformat": 4
 },
 "nbformat": 4,
 "nbformat_minor": 2
}
